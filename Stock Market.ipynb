{
 "cells": [
  {
   "cell_type": "markdown",
   "id": "13737963",
   "metadata": {},
   "source": [
    "## Import Libraries"
   ]
  },
  {
   "cell_type": "code",
   "execution_count": 3,
   "id": "95000206",
   "metadata": {},
   "outputs": [],
   "source": [
    "import pandas as pd\n",
    "import numpy as np\n",
    "import matplotlib.pyplot as plt\n",
    "%matplotlib inline\n",
    "import seaborn as sns\n",
    "sns.set()\n",
    "import warnings\n",
    "warnings.filterwarnings(\"ignore\")\n",
    "import yfinance as yf\n",
    "from sklearn.linear_model import LinearRegression\n",
    "from sklearn.preprocessing import StandardScaler\n",
    "from sklearn.impute import SimpleImputer\n",
    "from sklearn.model_selection import GridSearchCV\n",
    "from sklearn.pipeline import Pipeline"
   ]
  },
  {
   "cell_type": "markdown",
   "id": "fc5feb5f",
   "metadata": {},
   "source": [
    "## Import Data "
   ]
  },
  {
   "cell_type": "code",
   "execution_count": 272,
   "id": "3b38663e",
   "metadata": {},
   "outputs": [
    {
     "name": "stdout",
     "output_type": "stream",
     "text": [
      "[*********************100%***********************]  1 of 1 completed\n"
     ]
    }
   ],
   "source": [
    "# Read the data\n",
    "Df = yf.download(\"GLD\", start=\"2019-01-01\", end=\"2022-01-09\")"
   ]
  },
  {
   "cell_type": "code",
   "execution_count": 273,
   "id": "7c7b6008",
   "metadata": {},
   "outputs": [
    {
     "data": {
      "text/html": [
       "<div>\n",
       "<style scoped>\n",
       "    .dataframe tbody tr th:only-of-type {\n",
       "        vertical-align: middle;\n",
       "    }\n",
       "\n",
       "    .dataframe tbody tr th {\n",
       "        vertical-align: top;\n",
       "    }\n",
       "\n",
       "    .dataframe thead th {\n",
       "        text-align: right;\n",
       "    }\n",
       "</style>\n",
       "<table border=\"1\" class=\"dataframe\">\n",
       "  <thead>\n",
       "    <tr style=\"text-align: right;\">\n",
       "      <th></th>\n",
       "      <th>Open</th>\n",
       "      <th>High</th>\n",
       "      <th>Low</th>\n",
       "      <th>Close</th>\n",
       "      <th>Adj Close</th>\n",
       "      <th>Volume</th>\n",
       "    </tr>\n",
       "  </thead>\n",
       "  <tbody>\n",
       "    <tr>\n",
       "      <th>count</th>\n",
       "      <td>763.000000</td>\n",
       "      <td>763.000000</td>\n",
       "      <td>763.000000</td>\n",
       "      <td>763.000000</td>\n",
       "      <td>763.000000</td>\n",
       "      <td>7.630000e+02</td>\n",
       "    </tr>\n",
       "    <tr>\n",
       "      <th>mean</th>\n",
       "      <td>155.569161</td>\n",
       "      <td>156.223093</td>\n",
       "      <td>154.810669</td>\n",
       "      <td>155.547903</td>\n",
       "      <td>155.547903</td>\n",
       "      <td>9.749001e+06</td>\n",
       "    </tr>\n",
       "    <tr>\n",
       "      <th>std</th>\n",
       "      <td>19.455156</td>\n",
       "      <td>19.555775</td>\n",
       "      <td>19.248269</td>\n",
       "      <td>19.409751</td>\n",
       "      <td>19.409751</td>\n",
       "      <td>5.243923e+06</td>\n",
       "    </tr>\n",
       "    <tr>\n",
       "      <th>min</th>\n",
       "      <td>119.669998</td>\n",
       "      <td>120.110001</td>\n",
       "      <td>119.540001</td>\n",
       "      <td>119.940002</td>\n",
       "      <td>119.940002</td>\n",
       "      <td>2.250900e+06</td>\n",
       "    </tr>\n",
       "    <tr>\n",
       "      <th>25%</th>\n",
       "      <td>140.135002</td>\n",
       "      <td>140.670006</td>\n",
       "      <td>139.365005</td>\n",
       "      <td>140.129997</td>\n",
       "      <td>140.129997</td>\n",
       "      <td>6.449050e+06</td>\n",
       "    </tr>\n",
       "    <tr>\n",
       "      <th>50%</th>\n",
       "      <td>162.580002</td>\n",
       "      <td>163.309998</td>\n",
       "      <td>161.649994</td>\n",
       "      <td>162.410004</td>\n",
       "      <td>162.410004</td>\n",
       "      <td>8.353300e+06</td>\n",
       "    </tr>\n",
       "    <tr>\n",
       "      <th>75%</th>\n",
       "      <td>169.945000</td>\n",
       "      <td>170.434998</td>\n",
       "      <td>169.130005</td>\n",
       "      <td>169.805000</td>\n",
       "      <td>169.805000</td>\n",
       "      <td>1.165450e+07</td>\n",
       "    </tr>\n",
       "    <tr>\n",
       "      <th>max</th>\n",
       "      <td>193.740005</td>\n",
       "      <td>194.449997</td>\n",
       "      <td>192.520004</td>\n",
       "      <td>193.889999</td>\n",
       "      <td>193.889999</td>\n",
       "      <td>4.535500e+07</td>\n",
       "    </tr>\n",
       "  </tbody>\n",
       "</table>\n",
       "</div>"
      ],
      "text/plain": [
       "             Open        High         Low       Close   Adj Close  \\\n",
       "count  763.000000  763.000000  763.000000  763.000000  763.000000   \n",
       "mean   155.569161  156.223093  154.810669  155.547903  155.547903   \n",
       "std     19.455156   19.555775   19.248269   19.409751   19.409751   \n",
       "min    119.669998  120.110001  119.540001  119.940002  119.940002   \n",
       "25%    140.135002  140.670006  139.365005  140.129997  140.129997   \n",
       "50%    162.580002  163.309998  161.649994  162.410004  162.410004   \n",
       "75%    169.945000  170.434998  169.130005  169.805000  169.805000   \n",
       "max    193.740005  194.449997  192.520004  193.889999  193.889999   \n",
       "\n",
       "             Volume  \n",
       "count  7.630000e+02  \n",
       "mean   9.749001e+06  \n",
       "std    5.243923e+06  \n",
       "min    2.250900e+06  \n",
       "25%    6.449050e+06  \n",
       "50%    8.353300e+06  \n",
       "75%    1.165450e+07  \n",
       "max    4.535500e+07  "
      ]
     },
     "execution_count": 273,
     "metadata": {},
     "output_type": "execute_result"
    }
   ],
   "source": [
    "# Check the distribution of data\n",
    "Df.describe()"
   ]
  },
  {
   "cell_type": "code",
   "execution_count": 274,
   "id": "15d36c6e",
   "metadata": {},
   "outputs": [
    {
     "name": "stdout",
     "output_type": "stream",
     "text": [
      "<class 'pandas.core.frame.DataFrame'>\n",
      "DatetimeIndex: 763 entries, 2018-12-31 to 2022-01-07\n",
      "Data columns (total 6 columns):\n",
      " #   Column     Non-Null Count  Dtype  \n",
      "---  ------     --------------  -----  \n",
      " 0   Open       763 non-null    float64\n",
      " 1   High       763 non-null    float64\n",
      " 2   Low        763 non-null    float64\n",
      " 3   Close      763 non-null    float64\n",
      " 4   Adj Close  763 non-null    float64\n",
      " 5   Volume     763 non-null    int64  \n",
      "dtypes: float64(5), int64(1)\n",
      "memory usage: 41.7 KB\n"
     ]
    }
   ],
   "source": [
    "# Check the type each column\n",
    "Df.info()"
   ]
  },
  {
   "cell_type": "code",
   "execution_count": 275,
   "id": "b641c0a9",
   "metadata": {
    "scrolled": true
   },
   "outputs": [
    {
     "data": {
      "text/plain": [
       "Open         0\n",
       "High         0\n",
       "Low          0\n",
       "Close        0\n",
       "Adj Close    0\n",
       "Volume       0\n",
       "dtype: int64"
      ]
     },
     "execution_count": 275,
     "metadata": {},
     "output_type": "execute_result"
    }
   ],
   "source": [
    "# # Check for null values under each column\n",
    "Df.isnull().sum()"
   ]
  },
  {
   "cell_type": "code",
   "execution_count": 276,
   "id": "f15be660",
   "metadata": {},
   "outputs": [
    {
     "data": {
      "image/png": "[encoded data removed]",
      "text/plain": [
       "<Figure size 720x360 with 1 Axes>"
      ]
     },
     "metadata": {},
     "output_type": "display_data"
    }
   ],
   "source": [
    "# Plot the closing price of GLD\n",
    "Df.Close.plot(figsize=(10, 5))\n",
    "plt.ylabel(\"Close Price\")\n",
    "plt.show()"
   ]
  },
  {
   "cell_type": "markdown",
   "id": "0d2ba3da",
   "metadata": {},
   "source": [
    "## Create input parameters"
   ]
  },
  {
   "cell_type": "markdown",
   "id": "74c83d7a",
   "metadata": {},
   "source": [
    "We will create custom indicators, which will help in making the prediction more accurate.\n",
    "\n",
    "We will compute the moving average of GLD for 3, 15 and 60 days and store it in S_3, S_15, and S_60, respectively. Then, we will compute the correlation between the closing price and 3 days moving average and store it in Corr. Next, we will compute the difference between High & Open, Open & Low, Open & previous day's Open, and Open & previous day's Close and store it in Std_U, Std_D, OD, and OL, respectively."
   ]
  },
  {
   "cell_type": "code",
   "execution_count": 277,
   "id": "8b2a0694",
   "metadata": {},
   "outputs": [],
   "source": [
    "# Calculate 3-day moving average of close price\n",
    "Df['S_3'] = Df['Close'].shift(1).rolling(window=3).mean()\n",
    "\n",
    "# Calculate 15-day moving average of close price\n",
    "Df['S_15'] = Df['Close'].shift(1).rolling(window=15).mean()\n",
    "\n",
    "# Calculate 60-day moving average of close price\n",
    "Df['S_60'] = Df['Close'].shift(1).rolling(window=60).mean()\n",
    "\n",
    "# Calculate the correlation between close price and 3 day moving average\n",
    "Df['Corr'] = Df['Close'].shift(1).rolling(window=10).corr(Df['S_3'].shift(1))\n"
   ]
  },
  {
   "cell_type": "code",
   "execution_count": 278,
   "id": "df14ced0",
   "metadata": {},
   "outputs": [
    {
     "data": {
      "text/html": [
       "<div>\n",
       "<style scoped>\n",
       "    .dataframe tbody tr th:only-of-type {\n",
       "        vertical-align: middle;\n",
       "    }\n",
       "\n",
       "    .dataframe tbody tr th {\n",
       "        vertical-align: top;\n",
       "    }\n",
       "\n",
       "    .dataframe thead th {\n",
       "        text-align: right;\n",
       "    }\n",
       "</style>\n",
       "<table border=\"1\" class=\"dataframe\">\n",
       "  <thead>\n",
       "    <tr style=\"text-align: right;\">\n",
       "      <th></th>\n",
       "      <th>Open</th>\n",
       "      <th>High</th>\n",
       "      <th>Low</th>\n",
       "      <th>Close</th>\n",
       "      <th>Adj Close</th>\n",
       "      <th>Volume</th>\n",
       "      <th>S_3</th>\n",
       "      <th>S_15</th>\n",
       "      <th>S_60</th>\n",
       "      <th>Corr</th>\n",
       "    </tr>\n",
       "    <tr>\n",
       "      <th>Date</th>\n",
       "      <th></th>\n",
       "      <th></th>\n",
       "      <th></th>\n",
       "      <th></th>\n",
       "      <th></th>\n",
       "      <th></th>\n",
       "      <th></th>\n",
       "      <th></th>\n",
       "      <th></th>\n",
       "      <th></th>\n",
       "    </tr>\n",
       "  </thead>\n",
       "  <tbody>\n",
       "    <tr>\n",
       "      <th>2018-12-31</th>\n",
       "      <td>120.980003</td>\n",
       "      <td>121.260002</td>\n",
       "      <td>120.830002</td>\n",
       "      <td>121.250000</td>\n",
       "      <td>121.250000</td>\n",
       "      <td>8449400</td>\n",
       "      <td>NaN</td>\n",
       "      <td>NaN</td>\n",
       "      <td>NaN</td>\n",
       "      <td>NaN</td>\n",
       "    </tr>\n",
       "    <tr>\n",
       "      <th>2019-01-02</th>\n",
       "      <td>121.349998</td>\n",
       "      <td>121.750000</td>\n",
       "      <td>120.879997</td>\n",
       "      <td>121.330002</td>\n",
       "      <td>121.330002</td>\n",
       "      <td>12776200</td>\n",
       "      <td>NaN</td>\n",
       "      <td>NaN</td>\n",
       "      <td>NaN</td>\n",
       "      <td>NaN</td>\n",
       "    </tr>\n",
       "    <tr>\n",
       "      <th>2019-01-03</th>\n",
       "      <td>121.779999</td>\n",
       "      <td>122.459999</td>\n",
       "      <td>121.730003</td>\n",
       "      <td>122.430000</td>\n",
       "      <td>122.430000</td>\n",
       "      <td>15440800</td>\n",
       "      <td>NaN</td>\n",
       "      <td>NaN</td>\n",
       "      <td>NaN</td>\n",
       "      <td>NaN</td>\n",
       "    </tr>\n",
       "    <tr>\n",
       "      <th>2019-01-04</th>\n",
       "      <td>121.320000</td>\n",
       "      <td>121.599998</td>\n",
       "      <td>120.690002</td>\n",
       "      <td>121.440002</td>\n",
       "      <td>121.440002</td>\n",
       "      <td>13334000</td>\n",
       "      <td>121.670001</td>\n",
       "      <td>NaN</td>\n",
       "      <td>NaN</td>\n",
       "      <td>NaN</td>\n",
       "    </tr>\n",
       "    <tr>\n",
       "      <th>2019-01-07</th>\n",
       "      <td>122.160004</td>\n",
       "      <td>122.220001</td>\n",
       "      <td>121.570000</td>\n",
       "      <td>121.860001</td>\n",
       "      <td>121.860001</td>\n",
       "      <td>7473600</td>\n",
       "      <td>121.733335</td>\n",
       "      <td>NaN</td>\n",
       "      <td>NaN</td>\n",
       "      <td>NaN</td>\n",
       "    </tr>\n",
       "  </tbody>\n",
       "</table>\n",
       "</div>"
      ],
      "text/plain": [
       "                  Open        High         Low       Close   Adj Close  \\\n",
       "Date                                                                     \n",
       "2018-12-31  120.980003  121.260002  120.830002  121.250000  121.250000   \n",
       "2019-01-02  121.349998  121.750000  120.879997  121.330002  121.330002   \n",
       "2019-01-03  121.779999  122.459999  121.730003  122.430000  122.430000   \n",
       "2019-01-04  121.320000  121.599998  120.690002  121.440002  121.440002   \n",
       "2019-01-07  122.160004  122.220001  121.570000  121.860001  121.860001   \n",
       "\n",
       "              Volume         S_3  S_15  S_60  Corr  \n",
       "Date                                                \n",
       "2018-12-31   8449400         NaN   NaN   NaN   NaN  \n",
       "2019-01-02  12776200         NaN   NaN   NaN   NaN  \n",
       "2019-01-03  15440800         NaN   NaN   NaN   NaN  \n",
       "2019-01-04  13334000  121.670001   NaN   NaN   NaN  \n",
       "2019-01-07   7473600  121.733335   NaN   NaN   NaN  "
      ]
     },
     "execution_count": 278,
     "metadata": {},
     "output_type": "execute_result"
    }
   ],
   "source": [
    "Df.head()"
   ]
  },
  {
   "cell_type": "code",
   "execution_count": 279,
   "id": "ed3a318e",
   "metadata": {},
   "outputs": [
    {
     "data": {
      "text/html": [
       "<div>\n",
       "<style scoped>\n",
       "    .dataframe tbody tr th:only-of-type {\n",
       "        vertical-align: middle;\n",
       "    }\n",
       "\n",
       "    .dataframe tbody tr th {\n",
       "        vertical-align: top;\n",
       "    }\n",
       "\n",
       "    .dataframe thead th {\n",
       "        text-align: right;\n",
       "    }\n",
       "</style>\n",
       "<table border=\"1\" class=\"dataframe\">\n",
       "  <thead>\n",
       "    <tr style=\"text-align: right;\">\n",
       "      <th></th>\n",
       "      <th>Open</th>\n",
       "      <th>High</th>\n",
       "      <th>Low</th>\n",
       "      <th>Close</th>\n",
       "      <th>Adj Close</th>\n",
       "      <th>Volume</th>\n",
       "      <th>S_3</th>\n",
       "      <th>S_15</th>\n",
       "      <th>S_60</th>\n",
       "      <th>Corr</th>\n",
       "      <th>Std_U</th>\n",
       "      <th>Std_D</th>\n",
       "      <th>OD</th>\n",
       "      <th>OL</th>\n",
       "    </tr>\n",
       "    <tr>\n",
       "      <th>Date</th>\n",
       "      <th></th>\n",
       "      <th></th>\n",
       "      <th></th>\n",
       "      <th></th>\n",
       "      <th></th>\n",
       "      <th></th>\n",
       "      <th></th>\n",
       "      <th></th>\n",
       "      <th></th>\n",
       "      <th></th>\n",
       "      <th></th>\n",
       "      <th></th>\n",
       "      <th></th>\n",
       "      <th></th>\n",
       "    </tr>\n",
       "  </thead>\n",
       "  <tbody>\n",
       "    <tr>\n",
       "      <th>2022-01-03</th>\n",
       "      <td>168.860001</td>\n",
       "      <td>169.009995</td>\n",
       "      <td>168.000000</td>\n",
       "      <td>168.330002</td>\n",
       "      <td>168.330002</td>\n",
       "      <td>9014400</td>\n",
       "      <td>169.783335</td>\n",
       "      <td>168.010667</td>\n",
       "      <td>168.079999</td>\n",
       "      <td>0.630236</td>\n",
       "      <td>0.149994</td>\n",
       "      <td>0.860001</td>\n",
       "      <td>-1.669998</td>\n",
       "      <td>-2.100006</td>\n",
       "    </tr>\n",
       "    <tr>\n",
       "      <th>2022-01-04</th>\n",
       "      <td>168.899994</td>\n",
       "      <td>169.720001</td>\n",
       "      <td>168.729996</td>\n",
       "      <td>169.570007</td>\n",
       "      <td>169.570007</td>\n",
       "      <td>6965600</td>\n",
       "      <td>169.696671</td>\n",
       "      <td>168.127334</td>\n",
       "      <td>168.149499</td>\n",
       "      <td>0.428873</td>\n",
       "      <td>0.820007</td>\n",
       "      <td>0.169998</td>\n",
       "      <td>0.039993</td>\n",
       "      <td>0.569992</td>\n",
       "    </tr>\n",
       "    <tr>\n",
       "      <th>2022-01-05</th>\n",
       "      <td>170.619995</td>\n",
       "      <td>170.929993</td>\n",
       "      <td>168.899994</td>\n",
       "      <td>169.059998</td>\n",
       "      <td>169.059998</td>\n",
       "      <td>8715600</td>\n",
       "      <td>169.620005</td>\n",
       "      <td>168.298667</td>\n",
       "      <td>168.238499</td>\n",
       "      <td>0.338725</td>\n",
       "      <td>0.309998</td>\n",
       "      <td>1.720001</td>\n",
       "      <td>1.720001</td>\n",
       "      <td>1.049988</td>\n",
       "    </tr>\n",
       "    <tr>\n",
       "      <th>2022-01-06</th>\n",
       "      <td>167.160004</td>\n",
       "      <td>167.750000</td>\n",
       "      <td>166.860001</td>\n",
       "      <td>166.990005</td>\n",
       "      <td>166.990005</td>\n",
       "      <td>10902700</td>\n",
       "      <td>168.986669</td>\n",
       "      <td>168.540000</td>\n",
       "      <td>168.324166</td>\n",
       "      <td>0.106713</td>\n",
       "      <td>0.589996</td>\n",
       "      <td>0.300003</td>\n",
       "      <td>-3.459991</td>\n",
       "      <td>-1.899994</td>\n",
       "    </tr>\n",
       "    <tr>\n",
       "      <th>2022-01-07</th>\n",
       "      <td>167.369995</td>\n",
       "      <td>168.009995</td>\n",
       "      <td>166.860001</td>\n",
       "      <td>167.750000</td>\n",
       "      <td>167.750000</td>\n",
       "      <td>8191600</td>\n",
       "      <td>168.540003</td>\n",
       "      <td>168.596001</td>\n",
       "      <td>168.362999</td>\n",
       "      <td>-0.060493</td>\n",
       "      <td>0.639999</td>\n",
       "      <td>0.509995</td>\n",
       "      <td>0.209991</td>\n",
       "      <td>0.379990</td>\n",
       "    </tr>\n",
       "  </tbody>\n",
       "</table>\n",
       "</div>"
      ],
      "text/plain": [
       "                  Open        High         Low       Close   Adj Close  \\\n",
       "Date                                                                     \n",
       "2022-01-03  168.860001  169.009995  168.000000  168.330002  168.330002   \n",
       "2022-01-04  168.899994  169.720001  168.729996  169.570007  169.570007   \n",
       "2022-01-05  170.619995  170.929993  168.899994  169.059998  169.059998   \n",
       "2022-01-06  167.160004  167.750000  166.860001  166.990005  166.990005   \n",
       "2022-01-07  167.369995  168.009995  166.860001  167.750000  167.750000   \n",
       "\n",
       "              Volume         S_3        S_15        S_60      Corr     Std_U  \\\n",
       "Date                                                                           \n",
       "2022-01-03   9014400  169.783335  168.010667  168.079999  0.630236  0.149994   \n",
       "2022-01-04   6965600  169.696671  168.127334  168.149499  0.428873  0.820007   \n",
       "2022-01-05   8715600  169.620005  168.298667  168.238499  0.338725  0.309998   \n",
       "2022-01-06  10902700  168.986669  168.540000  168.324166  0.106713  0.589996   \n",
       "2022-01-07   8191600  168.540003  168.596001  168.362999 -0.060493  0.639999   \n",
       "\n",
       "               Std_D        OD        OL  \n",
       "Date                                      \n",
       "2022-01-03  0.860001 -1.669998 -2.100006  \n",
       "2022-01-04  0.169998  0.039993  0.569992  \n",
       "2022-01-05  1.720001  1.720001  1.049988  \n",
       "2022-01-06  0.300003 -3.459991 -1.899994  \n",
       "2022-01-07  0.509995  0.209991  0.379990  "
      ]
     },
     "execution_count": 279,
     "metadata": {},
     "output_type": "execute_result"
    }
   ],
   "source": [
    "Df['Std_U'] = Df['High']-Df['Open']\n",
    "Df['Std_D'] = Df['Open']-Df['Low']\n",
    "\n",
    "Df['OD'] = Df['Open']-Df['Open'].shift(1)\n",
    "Df['OL'] = Df['Open']-Df['Close'].shift(1)\n",
    "\n",
    "Df.tail()"
   ]
  },
  {
   "cell_type": "markdown",
   "id": "77d81a94",
   "metadata": {},
   "source": [
    "## Create X and y datasets"
   ]
  },
  {
   "cell_type": "markdown",
   "id": "653a68ee",
   "metadata": {},
   "source": [
    "A machine learning model's accuracy in making predictions depends on the kind of data provided to it.\n",
    "\n",
    "We will create an input dataset X and output datasets yU and yD for feeding into the linear regression model we are looking to build."
   ]
  },
  {
   "cell_type": "code",
   "execution_count": 280,
   "id": "42a97ab9",
   "metadata": {},
   "outputs": [
    {
     "data": {
      "text/html": [
       "<div>\n",
       "<style scoped>\n",
       "    .dataframe tbody tr th:only-of-type {\n",
       "        vertical-align: middle;\n",
       "    }\n",
       "\n",
       "    .dataframe tbody tr th {\n",
       "        vertical-align: top;\n",
       "    }\n",
       "\n",
       "    .dataframe thead th {\n",
       "        text-align: right;\n",
       "    }\n",
       "</style>\n",
       "<table border=\"1\" class=\"dataframe\">\n",
       "  <thead>\n",
       "    <tr style=\"text-align: right;\">\n",
       "      <th></th>\n",
       "      <th>Open</th>\n",
       "      <th>S_3</th>\n",
       "      <th>S_15</th>\n",
       "      <th>S_60</th>\n",
       "      <th>OD</th>\n",
       "      <th>OL</th>\n",
       "      <th>Corr</th>\n",
       "    </tr>\n",
       "    <tr>\n",
       "      <th>Date</th>\n",
       "      <th></th>\n",
       "      <th></th>\n",
       "      <th></th>\n",
       "      <th></th>\n",
       "      <th></th>\n",
       "      <th></th>\n",
       "      <th></th>\n",
       "    </tr>\n",
       "  </thead>\n",
       "  <tbody>\n",
       "    <tr>\n",
       "      <th>2022-01-03</th>\n",
       "      <td>168.860001</td>\n",
       "      <td>169.783335</td>\n",
       "      <td>168.010667</td>\n",
       "      <td>168.079999</td>\n",
       "      <td>-1.669998</td>\n",
       "      <td>-2.100006</td>\n",
       "      <td>0.630236</td>\n",
       "    </tr>\n",
       "    <tr>\n",
       "      <th>2022-01-04</th>\n",
       "      <td>168.899994</td>\n",
       "      <td>169.696671</td>\n",
       "      <td>168.127334</td>\n",
       "      <td>168.149499</td>\n",
       "      <td>0.039993</td>\n",
       "      <td>0.569992</td>\n",
       "      <td>0.428873</td>\n",
       "    </tr>\n",
       "    <tr>\n",
       "      <th>2022-01-05</th>\n",
       "      <td>170.619995</td>\n",
       "      <td>169.620005</td>\n",
       "      <td>168.298667</td>\n",
       "      <td>168.238499</td>\n",
       "      <td>1.720001</td>\n",
       "      <td>1.049988</td>\n",
       "      <td>0.338725</td>\n",
       "    </tr>\n",
       "    <tr>\n",
       "      <th>2022-01-06</th>\n",
       "      <td>167.160004</td>\n",
       "      <td>168.986669</td>\n",
       "      <td>168.540000</td>\n",
       "      <td>168.324166</td>\n",
       "      <td>-3.459991</td>\n",
       "      <td>-1.899994</td>\n",
       "      <td>0.106713</td>\n",
       "    </tr>\n",
       "    <tr>\n",
       "      <th>2022-01-07</th>\n",
       "      <td>167.369995</td>\n",
       "      <td>168.540003</td>\n",
       "      <td>168.596001</td>\n",
       "      <td>168.362999</td>\n",
       "      <td>0.209991</td>\n",
       "      <td>0.379990</td>\n",
       "      <td>-0.060493</td>\n",
       "    </tr>\n",
       "  </tbody>\n",
       "</table>\n",
       "</div>"
      ],
      "text/plain": [
       "                  Open         S_3        S_15        S_60        OD  \\\n",
       "Date                                                                   \n",
       "2022-01-03  168.860001  169.783335  168.010667  168.079999 -1.669998   \n",
       "2022-01-04  168.899994  169.696671  168.127334  168.149499  0.039993   \n",
       "2022-01-05  170.619995  169.620005  168.298667  168.238499  1.720001   \n",
       "2022-01-06  167.160004  168.986669  168.540000  168.324166 -3.459991   \n",
       "2022-01-07  167.369995  168.540003  168.596001  168.362999  0.209991   \n",
       "\n",
       "                  OL      Corr  \n",
       "Date                            \n",
       "2022-01-03 -2.100006  0.630236  \n",
       "2022-01-04  0.569992  0.428873  \n",
       "2022-01-05  1.049988  0.338725  \n",
       "2022-01-06 -1.899994  0.106713  \n",
       "2022-01-07  0.379990 -0.060493  "
      ]
     },
     "execution_count": 280,
     "metadata": {},
     "output_type": "execute_result"
    }
   ],
   "source": [
    "X = Df[['Open', 'S_3', 'S_15', 'S_60', 'OD', 'OL', 'Corr']]\n",
    "X.tail()"
   ]
  },
  {
   "cell_type": "code",
   "execution_count": 281,
   "id": "05d1b7a2",
   "metadata": {},
   "outputs": [
    {
     "data": {
      "text/plain": [
       "Date\n",
       "2022-01-03    0.149994\n",
       "2022-01-04    0.820007\n",
       "2022-01-05    0.309998\n",
       "2022-01-06    0.589996\n",
       "2022-01-07    0.639999\n",
       "Name: Std_U, dtype: float64"
      ]
     },
     "execution_count": 281,
     "metadata": {},
     "output_type": "execute_result"
    }
   ],
   "source": [
    "yU = Df['Std_U']\n",
    "yU.tail()"
   ]
  },
  {
   "cell_type": "code",
   "execution_count": 282,
   "id": "22a7ac1c",
   "metadata": {
    "scrolled": true
   },
   "outputs": [
    {
     "data": {
      "text/plain": [
       "Date\n",
       "2022-01-03    0.860001\n",
       "2022-01-04    0.169998\n",
       "2022-01-05    1.720001\n",
       "2022-01-06    0.300003\n",
       "2022-01-07    0.509995\n",
       "Name: Std_D, dtype: float64"
      ]
     },
     "execution_count": 282,
     "metadata": {},
     "output_type": "execute_result"
    }
   ],
   "source": [
    "yD = Df['Std_D']\n",
    "yD.tail()"
   ]
  },
  {
   "cell_type": "markdown",
   "id": "97e7b98d",
   "metadata": {},
   "source": [
    "## Pipeline "
   ]
  },
  {
   "cell_type": "markdown",
   "id": "3f712f25",
   "metadata": {},
   "source": [
    "In a machine learning model, there are many tasks that must be executed in sequential order. For this reason, we define a list containing tuples that specify the algo tasks given in the order of execution.\n",
    "\n",
    "Specify in the steps a list of (name, transform) tuples. The 'name' is the variable name given to the task and 'transform' is the function used to perform the task. Then, sequentially apply a list of transforms specified in steps using the pipeline.\n",
    "\n",
    "Syntax:\n",
    "    \n",
    "        steps = [(name_1,transform_1),(name_2,transform_2)....(name_n,transform_n)\n",
    "        Pipeline(steps) \n"
   ]
  },
  {
   "cell_type": "markdown",
   "id": "448f69c6",
   "metadata": {},
   "source": [
    "## Data Preprocessing"
   ]
  },
  {
   "cell_type": "markdown",
   "id": "3c445b7f",
   "metadata": {},
   "source": [
    "In a machine learning model, it is essential to feed the model with preprocessed data. Raw data contains many errors, and using such data will result in inconsistent and erroneous results."
   ]
  },
  {
   "cell_type": "markdown",
   "id": "2dabe826",
   "metadata": {},
   "source": [
    "### Imputer "
   ]
  },
  {
   "cell_type": "markdown",
   "id": "f9b999d7",
   "metadata": {},
   "source": [
    "We instantiate the imputer function, which helps in identifying and replacing missing values. One might think it would be easy to drop the NaN values and then make the prediction based on the rest of the dataset. This will lead to losing out on the information provided by the non-NaN values in other parameters. To tackle this problem, we will be using the imputer function.\n",
    "\n",
    "The imputer function takes the first argument as the type of missing value to be replaced. In this case, we have represented NaN in this field, as we are looking to replace the non-numerical values. The following argument to be entered is the strategy to be used for replacing the NaN values. We could either choose the mean, median or most frequent value of the dataset."
   ]
  },
  {
   "cell_type": "markdown",
   "id": "19a73667",
   "metadata": {},
   "source": [
    "### Scaling"
   ]
  },
  {
   "cell_type": "markdown",
   "id": "040b88df",
   "metadata": {},
   "source": [
    "Suppose a feature has a variance of an order of magnitude larger than that of the other features. In that case, it might dominate the objective function and make the estimator unable to learn from other features correctly as expected. To achieve this, we call the Standard Scaler function."
   ]
  },
  {
   "cell_type": "code",
   "execution_count": 283,
   "id": "079af4fb",
   "metadata": {},
   "outputs": [],
   "source": [
    "imp = SimpleImputer(missing_values = np.nan, strategy='most_frequent')\n",
    "steps = [('imputation', imp),\n",
    "         ('scaler',StandardScaler()),\n",
    "         ('linear',LinearRegression())]     \n",
    "pipeline = Pipeline(steps)"
   ]
  },
  {
   "cell_type": "markdown",
   "id": "fd62a9bd",
   "metadata": {},
   "source": [
    "## Hyperparameters "
   ]
  },
  {
   "cell_type": "markdown",
   "id": "62524c60",
   "metadata": {},
   "source": [
    "There are some parameters that the model itself cannot estimate, but we still need to account for them as they play a crucial role in increasing the performance of the system. Such parameters are called hyperparameters. Hear, including the intercept term in our calculations is something that we have chosen as the hyperparameter. You can add more hyperparameters to tune the algo."
   ]
  },
  {
   "cell_type": "code",
   "execution_count": 284,
   "id": "9040de55",
   "metadata": {},
   "outputs": [],
   "source": [
    "parameters = {'linear__fit_intercept':[0,1]}"
   ]
  },
  {
   "cell_type": "markdown",
   "id": "61baca37",
   "metadata": {},
   "source": [
    "### Grid search cross-validation "
   ]
  },
  {
   "cell_type": "markdown",
   "id": "9eae00ca",
   "metadata": {},
   "source": [
    "Cross-validation indicates the model’s performance in a practical situation. Cross-validation aims to test the model during the training phase to tackle problems like overfitting and give an insight into how the model will generalize to an independent dataset. We will use the GridSearchCV function, which is an inbuilt function for running cross-validation.\n",
    "\n",
    "We have set cv=5, which implies that the grid search will consider 5 rounds of cross-validation for averaging the performance results."
   ]
  },
  {
   "cell_type": "code",
   "execution_count": 285,
   "id": "17bd3b1f",
   "metadata": {},
   "outputs": [],
   "source": [
    "reg = GridSearchCV(pipeline, parameters, cv=5)"
   ]
  },
  {
   "cell_type": "markdown",
   "id": "e4d2d198",
   "metadata": {},
   "source": [
    "## Split test and train data"
   ]
  },
  {
   "cell_type": "markdown",
   "id": "463e8984",
   "metadata": {},
   "source": [
    "Now, we will split data into train and test data set.\n",
    "\n",
    "    1) First, 80% of data is used for training and the remaining data for testing.\n",
    "    2)Fit the training data to a grid search function."
   ]
  },
  {
   "cell_type": "code",
   "execution_count": 286,
   "id": "efe2d6ed",
   "metadata": {},
   "outputs": [
    {
     "data": {
      "text/plain": [
       "GridSearchCV(cv=5,\n",
       "             estimator=Pipeline(steps=[('imputation',\n",
       "                                        SimpleImputer(strategy='most_frequent')),\n",
       "                                       ('scaler', StandardScaler()),\n",
       "                                       ('linear', LinearRegression())]),\n",
       "             param_grid={'linear__fit_intercept': [0, 1]})"
      ]
     },
     "execution_count": 286,
     "metadata": {},
     "output_type": "execute_result"
    }
   ],
   "source": [
    "t = .8\n",
    "split = int(t*len(Df))\n",
    "reg.fit(X[:split],yU[:split])"
   ]
  },
  {
   "cell_type": "markdown",
   "id": "86c08592",
   "metadata": {},
   "source": [
    "## Prediction using Linear Regression  "
   ]
  },
  {
   "cell_type": "markdown",
   "id": "96502f08",
   "metadata": {},
   "source": [
    "We will call the best_params_ function and pass the linear_fit_intercept as an argument to it. This is a boolean parameter that can only take either 0 or 1 as its value, indicating False and True, respectively. Please note that there is a double underscore after the word linear, as it indicates that the parameter after the double underscore belongs to the key before the double underscore."
   ]
  },
  {
   "cell_type": "code",
   "execution_count": 287,
   "id": "6cc2120f",
   "metadata": {},
   "outputs": [],
   "source": [
    "best_fit = reg.best_params_['linear__fit_intercept']"
   ]
  },
  {
   "cell_type": "markdown",
   "id": "9c70a5bd",
   "metadata": {},
   "source": [
    "We will call the LinearRegression function and pass the arguments as fit_intercept = best_fit, where best_fit is the value that decides the intercept parameter for the new instantiation of the LinearRegression function."
   ]
  },
  {
   "cell_type": "code",
   "execution_count": 288,
   "id": "11bafcda",
   "metadata": {},
   "outputs": [],
   "source": [
    "reg = LinearRegression(fit_intercept=best_fit)"
   ]
  },
  {
   "cell_type": "markdown",
   "id": "4174324d",
   "metadata": {},
   "source": [
    "We will call the imputer function to fill in all the NaN values with the most frequent values."
   ]
  },
  {
   "cell_type": "code",
   "execution_count": 289,
   "id": "cc9f39de",
   "metadata": {},
   "outputs": [],
   "source": [
    "X = imp.fit_transform(X,yU)"
   ]
  },
  {
   "cell_type": "markdown",
   "id": "dc5b9301",
   "metadata": {},
   "source": [
    "We will fit the linear regression model on the train dataset and predict the upward GLD deviation in the test dataset."
   ]
  },
  {
   "cell_type": "code",
   "execution_count": 290,
   "id": "c1deaa4a",
   "metadata": {},
   "outputs": [],
   "source": [
    "reg.fit(X[:split], yU[:split])\n",
    "yU_predict = reg.predict(X[split:])"
   ]
  },
  {
   "cell_type": "code",
   "execution_count": 291,
   "id": "446d0807",
   "metadata": {},
   "outputs": [],
   "source": [
    "# Assign the predicted values to a new column in the dataframe\n",
    "Df.reset_index(inplace=True)\n",
    "Df['Max_U'] = 0\n",
    "Df.loc[Df.index >= split, 'Max_U'] = yU_predict\n",
    "Df.loc[Df['Max_U'] < 0, 'Max_U'] = 0"
   ]
  },
  {
   "cell_type": "markdown",
   "id": "dbc3ab42",
   "metadata": {},
   "source": [
    "Similarly, we predict the downward GLD deviation in the test dataset."
   ]
  },
  {
   "cell_type": "code",
   "execution_count": 292,
   "id": "7cfbc155",
   "metadata": {},
   "outputs": [],
   "source": [
    "reg = GridSearchCV(pipeline, parameters, cv=2)\n",
    "reg.fit(X[:split], yD[:split])\n",
    "best_fit = reg.best_params_['linear__fit_intercept']\n",
    "reg = LinearRegression(fit_intercept=best_fit)\n",
    "X = imp.fit_transform(X, yD)\n",
    "reg.fit(X[:split], yD[:split])\n",
    "\n",
    "yD_predict = reg.predict(X[split:])"
   ]
  },
  {
   "cell_type": "code",
   "execution_count": 293,
   "id": "7a9ac883",
   "metadata": {},
   "outputs": [],
   "source": [
    "# Assign the predicted values to a new column in the data frame\n",
    "Df['Max_D'] = 0\n",
    "Df.loc[Df.index >= split, 'Max_D'] = yD_predict\n",
    "Df.loc[Df['Max_D'] < 0, 'Max_D'] = 0\n",
    "\n",
    "Df.set_index('Date', inplace=True)"
   ]
  },
  {
   "cell_type": "markdown",
   "id": "5cf7ae16",
   "metadata": {},
   "source": [
    "We will use the predicted upside deviation values to calculate the high price and the predicted downside deviation values to calculate the low price"
   ]
  },
  {
   "cell_type": "code",
   "execution_count": 294,
   "id": "413cf6e8",
   "metadata": {},
   "outputs": [
    {
     "data": {
      "text/html": [
       "<div>\n",
       "<style scoped>\n",
       "    .dataframe tbody tr th:only-of-type {\n",
       "        vertical-align: middle;\n",
       "    }\n",
       "\n",
       "    .dataframe tbody tr th {\n",
       "        vertical-align: top;\n",
       "    }\n",
       "\n",
       "    .dataframe thead th {\n",
       "        text-align: right;\n",
       "    }\n",
       "</style>\n",
       "<table border=\"1\" class=\"dataframe\">\n",
       "  <thead>\n",
       "    <tr style=\"text-align: right;\">\n",
       "      <th></th>\n",
       "      <th>High</th>\n",
       "      <th>P_H</th>\n",
       "      <th>Low</th>\n",
       "      <th>P_L</th>\n",
       "    </tr>\n",
       "    <tr>\n",
       "      <th>Date</th>\n",
       "      <th></th>\n",
       "      <th></th>\n",
       "      <th></th>\n",
       "      <th></th>\n",
       "    </tr>\n",
       "  </thead>\n",
       "  <tbody>\n",
       "    <tr>\n",
       "      <th>2022-01-03</th>\n",
       "      <td>169.009995</td>\n",
       "      <td>169.595996</td>\n",
       "      <td>168.000000</td>\n",
       "      <td>167.723059</td>\n",
       "    </tr>\n",
       "    <tr>\n",
       "      <th>2022-01-04</th>\n",
       "      <td>169.720001</td>\n",
       "      <td>169.745093</td>\n",
       "      <td>168.729996</td>\n",
       "      <td>168.007127</td>\n",
       "    </tr>\n",
       "    <tr>\n",
       "      <th>2022-01-05</th>\n",
       "      <td>170.929993</td>\n",
       "      <td>171.384629</td>\n",
       "      <td>168.899994</td>\n",
       "      <td>169.785272</td>\n",
       "    </tr>\n",
       "    <tr>\n",
       "      <th>2022-01-06</th>\n",
       "      <td>167.750000</td>\n",
       "      <td>167.871664</td>\n",
       "      <td>166.860001</td>\n",
       "      <td>166.018618</td>\n",
       "    </tr>\n",
       "    <tr>\n",
       "      <th>2022-01-07</th>\n",
       "      <td>168.009995</td>\n",
       "      <td>168.170221</td>\n",
       "      <td>166.860001</td>\n",
       "      <td>166.530813</td>\n",
       "    </tr>\n",
       "  </tbody>\n",
       "</table>\n",
       "</div>"
      ],
      "text/plain": [
       "                  High         P_H         Low         P_L\n",
       "Date                                                      \n",
       "2022-01-03  169.009995  169.595996  168.000000  167.723059\n",
       "2022-01-04  169.720001  169.745093  168.729996  168.007127\n",
       "2022-01-05  170.929993  171.384629  168.899994  169.785272\n",
       "2022-01-06  167.750000  167.871664  166.860001  166.018618\n",
       "2022-01-07  168.009995  168.170221  166.860001  166.530813"
      ]
     },
     "execution_count": 294,
     "metadata": {},
     "output_type": "execute_result"
    }
   ],
   "source": [
    "# We will use the predicted upside deviation values to calculate the high price\n",
    "Df['P_H'] = Df['Open']+Df['Max_U']\n",
    "Df['P_L'] = Df['Open']-Df['Max_D']\n",
    "\n",
    "Df[['High', 'P_H', 'Low', 'P_L']].tail()"
   ]
  },
  {
   "cell_type": "markdown",
   "id": "1b35f6c5",
   "metadata": {},
   "source": [
    "## Strategy returns "
   ]
  },
  {
   "cell_type": "markdown",
   "id": "698c5ba2",
   "metadata": {},
   "source": [
    "We will use the predicted high and predicted low values to determine whether to buy or sell GLD ETF the next day.\n",
    "\n",
    "We will sell GLD ETF when\n",
    "\n",
    "    1) The actual high value is greater than the predicted high value and\n",
    "    2) The actual low value is greater than the predicted low value\n",
    "\n",
    "We will buy GLD ETF when\n",
    "\n",
    "    1) The actual high value is less than the predicted high value and\n",
    "    2) The actual low value is less than the predicted low value\n",
    "    \n",
    "Next, we will compute the GLD returns and strategy returns."
   ]
  },
  {
   "cell_type": "code",
   "execution_count": 295,
   "id": "8964254c",
   "metadata": {},
   "outputs": [],
   "source": [
    "# Trading signal\n",
    "Df['Signal'] = 0\n",
    "Df.loc[(Df['High']>Df['P_H']) &(Df['Low']>Df['P_L']),'Signal'] = 1\n",
    "Df.loc[(Df['High']<Df['P_H']) &(Df['Low']<Df['P_L']),'Signal'] = -1\n",
    "\n",
    "# Compute GLD returns \n",
    "Df['Ret'] = (Df['Close']-Df['Close'].shift(1))/Df['Close'].shift(1)\n",
    "\n",
    "# Compute strategy returns(\n",
    "Df['Ret1'] = Df['Ret']*(Df['Signal'].shift(1))"
   ]
  },
  {
   "cell_type": "markdown",
   "id": "e8dedf1e",
   "metadata": {},
   "source": [
    "## Plot the Gold returns and strategy returns"
   ]
  },
  {
   "cell_type": "code",
   "execution_count": 296,
   "id": "5fa2527f",
   "metadata": {
    "scrolled": true
   },
   "outputs": [
    {
     "data": {
      "image/png": "[encoded data removed]",
      "text/plain": [
       "<Figure size 720x360 with 1 Axes>"
      ]
     },
     "metadata": {},
     "output_type": "display_data"
    }
   ],
   "source": [
    "plt.figure(figsize=(10,5))\n",
    "plt.plot(((Df['Ret'][split:]+1).cumprod()),color='r',label='GLD Returns')\n",
    "plt.plot(((Df['Ret1'][split:]+1).cumprod()),color='g',label='Strategy Returns')\n",
    "plt.legend()\n",
    "plt.show()"
   ]
  },
  {
   "cell_type": "markdown",
   "id": "b2ae4c65",
   "metadata": {},
   "source": [
    "## Analyze the performance "
   ]
  },
  {
   "cell_type": "code",
   "execution_count": 297,
   "id": "cebe7637",
   "metadata": {},
   "outputs": [
    {
     "name": "stdout",
     "output_type": "stream",
     "text": [
      "Sharpe 1.1100727317876473\n"
     ]
    }
   ],
   "source": [
    "# The below function returns the Sharpe ratio for the excess returns\n",
    "def annualized_sharpe_ratio(returns, N=252):\n",
    "    return np.sqrt(N) * returns.mean() / returns.std()\n",
    "\n",
    "# Calculate the excess daily return by assuming an annual risk free rate of return of 5%\n",
    "excess_daily_strategy_return = Df['Ret1'][split:] - 0.05/252\n",
    "\n",
    "# Calculate the annualized Sharpe ratio\n",
    "sharpe = annualized_sharpe_ratio(excess_daily_strategy_return)\n",
    "print('Sharpe', sharpe)"
   ]
  },
  {
   "cell_type": "code",
   "execution_count": null,
   "id": "470eba7f",
   "metadata": {},
   "outputs": [],
   "source": []
  },
  {
   "cell_type": "code",
   "execution_count": null,
   "id": "7c03cc0e",
   "metadata": {},
   "outputs": [],
   "source": []
  }
 ],
 "metadata": {
  "kernelspec": {
   "display_name": "Python 3 (ipykernel)",
   "language": "python",
   "name": "python3"
  },
  "language_info": {
   "codemirror_mode": {
    "name": "ipython",
    "version": 3
   },
   "file_extension": ".py",
   "mimetype": "text/x-python",
   "name": "python",
   "nbconvert_exporter": "python",
   "pygments_lexer": "ipython3",
   "version": "3.9.7"
  }
 },
 "nbformat": 4,
 "nbformat_minor": 5
}
